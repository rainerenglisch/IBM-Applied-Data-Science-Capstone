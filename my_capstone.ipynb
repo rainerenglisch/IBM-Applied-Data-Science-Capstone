{
 "cells": [
  {
   "cell_type": "code",
   "execution_count": 1,
   "metadata": {},
   "outputs": [
    {
     "name": "stdout",
     "output_type": "stream",
     "text": [
      "Collecting package metadata (current_repodata.json): done\n",
      "Solving environment: done\n",
      "\n",
      "# All requested packages already installed.\n",
      "\n",
      "Collecting package metadata (current_repodata.json): done\n",
      "Solving environment: done\n",
      "\n",
      "# All requested packages already installed.\n",
      "\n"
     ]
    }
   ],
   "source": [
    "!conda install -c conda-forge geopy --yes\n",
    "!conda install -c conda-forge folium=0.5.0 --yes"
   ]
  },
  {
   "cell_type": "code",
   "execution_count": 2,
   "metadata": {},
   "outputs": [
    {
     "name": "stdout",
     "output_type": "stream",
     "text": [
      "Requirement already satisfied: folium==0.5 in /home/rainer/miniconda3/envs/test/lib/python3.7/site-packages (0.5.0)\n",
      "Requirement already satisfied: branca in /home/rainer/miniconda3/envs/test/lib/python3.7/site-packages (from folium==0.5) (0.4.1)\n",
      "Requirement already satisfied: jinja2 in /home/rainer/miniconda3/envs/test/lib/python3.7/site-packages (from folium==0.5) (2.11.2)\n",
      "Requirement already satisfied: requests in /home/rainer/miniconda3/envs/test/lib/python3.7/site-packages (from folium==0.5) (2.23.0)\n",
      "Requirement already satisfied: six in /home/rainer/miniconda3/envs/test/lib/python3.7/site-packages (from folium==0.5) (1.15.0)\n",
      "Requirement already satisfied: MarkupSafe>=0.23 in /home/rainer/miniconda3/envs/test/lib/python3.7/site-packages (from jinja2->folium==0.5) (1.1.1)\n",
      "Requirement already satisfied: urllib3!=1.25.0,!=1.25.1,<1.26,>=1.21.1 in /home/rainer/miniconda3/envs/test/lib/python3.7/site-packages (from requests->folium==0.5) (1.25.9)\n",
      "Requirement already satisfied: chardet<4,>=3.0.2 in /home/rainer/miniconda3/envs/test/lib/python3.7/site-packages (from requests->folium==0.5) (3.0.4)\n",
      "Requirement already satisfied: idna<3,>=2.5 in /home/rainer/miniconda3/envs/test/lib/python3.7/site-packages (from requests->folium==0.5) (2.9)\n",
      "Requirement already satisfied: certifi>=2017.4.17 in /home/rainer/miniconda3/envs/test/lib/python3.7/site-packages (from requests->folium==0.5) (2020.6.20)\n",
      "Requirement already satisfied: geopy in /home/rainer/miniconda3/envs/test/lib/python3.7/site-packages (1.22.0)\n",
      "Requirement already satisfied: geographiclib<2,>=1.49 in /home/rainer/miniconda3/envs/test/lib/python3.7/site-packages (from geopy) (1.50)\n"
     ]
    }
   ],
   "source": [
    "!pip install folium==0.5\n",
    "!pip install geopy"
   ]
  },
  {
   "cell_type": "code",
   "execution_count": 3,
   "metadata": {},
   "outputs": [
    {
     "name": "stdout",
     "output_type": "stream",
     "text": [
      "Libraries imported.\n"
     ]
    }
   ],
   "source": [
    "import numpy as np # library to handle data in a vectorized manner\n",
    "\n",
    "import pandas as pd # library for data analsysis\n",
    "pd.set_option('display.max_columns', None)\n",
    "pd.set_option('display.max_rows', None)\n",
    "\n",
    "import json # library to handle JSON files\n",
    "\n",
    "#!conda install -c conda-forge geopy --yes # uncomment this line if you haven't completed the Foursquare API lab\n",
    "from geopy.geocoders import Nominatim # convert an address into latitude and longitude values\n",
    "\n",
    "import requests # library to handle requests\n",
    "from pandas.io.json import json_normalize # tranform JSON file into a pandas dataframe\n",
    "\n",
    "# Matplotlib and associated plotting modules\n",
    "import matplotlib.cm as cm\n",
    "import matplotlib.colors as colors\n",
    "\n",
    "# import k-means from clustering stage\n",
    "from sklearn.cluster import KMeans\n",
    "\n",
    "#!conda install -c conda-forge folium=0.5.0 --yes # uncomment this line if you haven't completed the Foursquare API lab\n",
    "import folium # map rendering library\n",
    "\n",
    "print('Libraries imported.')"
   ]
  },
  {
   "cell_type": "code",
   "execution_count": 23,
   "metadata": {},
   "outputs": [],
   "source": [
    "home_address = \"Landgrabenweg 151, 53227 Bonn, Deutschland\""
   ]
  },
  {
   "cell_type": "markdown",
   "metadata": {},
   "source": [
    "# Geolocation of home address"
   ]
  },
  {
   "cell_type": "markdown",
   "metadata": {},
   "source": [
    "## Initialize the geolocator"
   ]
  },
  {
   "cell_type": "code",
   "execution_count": 18,
   "metadata": {},
   "outputs": [],
   "source": [
    "geolocator = Nominatim(user_agent=\"ny_explorer\")\n",
    "#index, row in df.iterrows()\n",
    "\n",
    "# add columns for latitude and longitute\n",
    "neighborhoods[\"latitude\"] = None\n",
    "neighborhoods[\"longitute\"] = None"
   ]
  },
  {
   "cell_type": "code",
   "execution_count": 21,
   "metadata": {},
   "outputs": [],
   "source": [
    "def get_geolocation(address):\n",
    "    location = geolocator.geocode(address)\n",
    "    latitude = location.latitude\n",
    "    longitude = location.longitude\n",
    "    print('For address {} the geograpical coordinate are {}, {}.'.format(address,latitude, longitude))  \n",
    "    return latitude, longitude"
   ]
  },
  {
   "cell_type": "code",
   "execution_count": null,
   "metadata": {},
   "outputs": [],
   "source": [
    "## Retrieve geolocation of home address"
   ]
  },
  {
   "cell_type": "code",
   "execution_count": 26,
   "metadata": {},
   "outputs": [
    {
     "name": "stdout",
     "output_type": "stream",
     "text": [
      "For address Landgrabenweg 151, 53227 Bonn, Deutschland the geograpical coordinate are 50.7228828, 7.144641.\n",
      "Geolocation of home addres: latitute 50.7228828 longitude 7.144641.\n"
     ]
    }
   ],
   "source": [
    "home_latitude, homelongitude= get_geolocation(home_address)\n",
    "print(\"Geolocation of home addres: latitute {} longitude {}.\".format(home_latitude, homelongitude))"
   ]
  },
  {
   "cell_type": "markdown",
   "metadata": {},
   "source": [
    "# The geolocations of the target city's neighborhoods"
   ]
  },
  {
   "cell_type": "code",
   "execution_count": null,
   "metadata": {},
   "outputs": [],
   "source": []
  },
  {
   "cell_type": "markdown",
   "metadata": {},
   "source": [
    "## Read all neighboorhoods of Berlin"
   ]
  },
  {
   "cell_type": "code",
   "execution_count": 17,
   "metadata": {},
   "outputs": [
    {
     "data": {
      "text/html": [
       "<div>\n",
       "<style scoped>\n",
       "    .dataframe tbody tr th:only-of-type {\n",
       "        vertical-align: middle;\n",
       "    }\n",
       "\n",
       "    .dataframe tbody tr th {\n",
       "        vertical-align: top;\n",
       "    }\n",
       "\n",
       "    .dataframe thead th {\n",
       "        text-align: right;\n",
       "    }\n",
       "</style>\n",
       "<table border=\"1\" class=\"dataframe\">\n",
       "  <thead>\n",
       "    <tr style=\"text-align: right;\">\n",
       "      <th></th>\n",
       "      <th>Name</th>\n",
       "      <th>Status</th>\n",
       "    </tr>\n",
       "  </thead>\n",
       "  <tbody>\n",
       "    <tr>\n",
       "      <th>0</th>\n",
       "      <td>Gesundbrunnen</td>\n",
       "      <td>Ortsteil</td>\n",
       "    </tr>\n",
       "    <tr>\n",
       "      <th>1</th>\n",
       "      <td>Hansaviertel</td>\n",
       "      <td>Ortsteil</td>\n",
       "    </tr>\n",
       "    <tr>\n",
       "      <th>2</th>\n",
       "      <td>Mitte</td>\n",
       "      <td>Ortsteil</td>\n",
       "    </tr>\n",
       "    <tr>\n",
       "      <th>3</th>\n",
       "      <td>Moabit</td>\n",
       "      <td>Ortsteil</td>\n",
       "    </tr>\n",
       "    <tr>\n",
       "      <th>4</th>\n",
       "      <td>Tiergarten</td>\n",
       "      <td>Ortsteil</td>\n",
       "    </tr>\n",
       "    <tr>\n",
       "      <th>5</th>\n",
       "      <td>Wedding</td>\n",
       "      <td>Ortsteil</td>\n",
       "    </tr>\n",
       "    <tr>\n",
       "      <th>6</th>\n",
       "      <td>Charlottenburg</td>\n",
       "      <td>Ortsteil</td>\n",
       "    </tr>\n",
       "    <tr>\n",
       "      <th>7</th>\n",
       "      <td>Charlottenburg-Nord</td>\n",
       "      <td>Ortsteil</td>\n",
       "    </tr>\n",
       "    <tr>\n",
       "      <th>8</th>\n",
       "      <td>Grunewald</td>\n",
       "      <td>Ortsteil</td>\n",
       "    </tr>\n",
       "    <tr>\n",
       "      <th>9</th>\n",
       "      <td>Halensee</td>\n",
       "      <td>Ortsteil</td>\n",
       "    </tr>\n",
       "  </tbody>\n",
       "</table>\n",
       "</div>"
      ],
      "text/plain": [
       "                  Name    Status\n",
       "0        Gesundbrunnen  Ortsteil\n",
       "1         Hansaviertel  Ortsteil\n",
       "2                Mitte  Ortsteil\n",
       "3               Moabit  Ortsteil\n",
       "4           Tiergarten  Ortsteil\n",
       "5              Wedding  Ortsteil\n",
       "6       Charlottenburg  Ortsteil\n",
       "7  Charlottenburg-Nord  Ortsteil\n",
       "8            Grunewald  Ortsteil\n",
       "9             Halensee  Ortsteil"
      ]
     },
     "execution_count": 17,
     "metadata": {},
     "output_type": "execute_result"
    }
   ],
   "source": [
    "berlin_stadtteile = pd.read_csv(\"berlin_ortsteile.csv\")\n",
    "neighborhoods = berlin_stadtteile\n",
    "neighborhoods[:10]"
   ]
  },
  {
   "cell_type": "markdown",
   "metadata": {},
   "source": [
    "## Next iterate over all neighborhoods in Berlin and retrieve their geolocations"
   ]
  },
  {
   "cell_type": "code",
   "execution_count": 27,
   "metadata": {},
   "outputs": [
    {
     "name": "stdout",
     "output_type": "stream",
     "text": [
      "For address Gesundbrunnen, Berlin, DE the geograpical coordinate are 52.5509201, 13.384846.\n",
      "For address Hansaviertel, Berlin, DE the geograpical coordinate are 52.5191234, 13.3418725.\n",
      "For address Mitte, Berlin, DE the geograpical coordinate are 52.5176896, 13.4023757.\n",
      "For address Moabit, Berlin, DE the geograpical coordinate are 52.5301017, 13.3425422.\n",
      "For address Tiergarten, Berlin, DE the geograpical coordinate are 52.5097776, 13.3572597.\n",
      "For address Wedding, Berlin, DE the geograpical coordinate are 52.550123, 13.34197.\n",
      "For address Charlottenburg, Berlin, DE the geograpical coordinate are 52.515747, 13.3096834.\n",
      "For address Charlottenburg-Nord, Berlin, DE the geograpical coordinate are 52.5405253, 13.2962663.\n",
      "For address Grunewald, Berlin, DE the geograpical coordinate are 52.460482150000004, 13.238698511429014.\n",
      "For address Halensee, Berlin, DE the geograpical coordinate are 52.4972262, 13.2929986.\n",
      "For address Schmargendorf, Berlin, DE the geograpical coordinate are 52.4789022, 13.2929962.\n",
      "For address Westend, Berlin, DE the geograpical coordinate are 52.5133992, 13.2558416.\n",
      "For address Wilmersdorf, Berlin, DE the geograpical coordinate are 52.4871152, 13.3203298.\n",
      "For address Friedrichshain, Berlin, DE the geograpical coordinate are 52.5122154, 13.4502904.\n",
      "For address Kreuzberg, Berlin, DE the geograpical coordinate are 52.4976443, 13.411914.\n",
      "For address Alt-Hohenschönhausen, Berlin, DE the geograpical coordinate are 52.5504091, 13.5025491.\n",
      "For address Falkenberg, Berlin, DE the geograpical coordinate are 52.5692998, 13.5400296.\n",
      "For address Fennpfuhl, Berlin, DE the geograpical coordinate are 52.5287849, 13.4734687.\n",
      "For address Friedrichsfelde, Berlin, DE the geograpical coordinate are 52.5029358, 13.5205456.\n",
      "For address Karlshorst, Berlin, DE the geograpical coordinate are 52.4837034, 13.5233553.\n",
      "For address Lichtenberg, Berlin, DE the geograpical coordinate are 52.5321606, 13.5118927.\n",
      "For address Malchow, Berlin, DE the geograpical coordinate are 52.5798667, 13.4820928.\n",
      "For address Neu-Hohenschönhausen, Berlin, DE the geograpical coordinate are 52.5663309, 13.514065.\n",
      "For address Rummelsburg, Berlin, DE the geograpical coordinate are 52.5013696, 13.4835143.\n",
      "For address Wartenberg, Berlin, DE the geograpical coordinate are 52.5753945, 13.5175821.\n",
      "For address Biesdorf, Berlin, DE the geograpical coordinate are 52.5109922, 13.5550131.\n",
      "For address Hellersdorf, Berlin, DE the geograpical coordinate are 52.5368537, 13.6047745.\n",
      "For address Kaulsdorf, Berlin, DE the geograpical coordinate are 52.5101316, 13.5809901.\n",
      "For address Mahlsdorf, Berlin, DE the geograpical coordinate are 52.5086995, 13.6131624.\n",
      "For address Marzahn, Berlin, DE the geograpical coordinate are 52.5429481, 13.563142.\n",
      "For address Britz, Berlin, DE the geograpical coordinate are 52.4483324, 13.4423401.\n",
      "For address Buckow, Berlin, DE the geograpical coordinate are 52.4186619, 13.4289504.\n",
      "For address Gropiusstadt, Berlin, DE the geograpical coordinate are 52.4249493, 13.466183.\n",
      "For address Neukölln, Berlin, DE the geograpical coordinate are 52.4811497, 13.4353501.\n",
      "For address Rudow, Berlin, DE the geograpical coordinate are 52.4146801, 13.4986183.\n",
      "For address Blankenburg, Berlin, DE the geograpical coordinate are 52.593211, 13.4541825.\n",
      "For address Blankenfelde, Berlin, DE the geograpical coordinate are 52.6186272, 13.3884468.\n",
      "For address Buch, Berlin, DE the geograpical coordinate are 52.6366724, 13.4999292.\n",
      "For address Französisch Buchholz, Berlin, DE the geograpical coordinate are 52.6105131, 13.4281104.\n",
      "For address Heinersdorf, Berlin, DE the geograpical coordinate are 52.5728248, 13.4370149.\n",
      "For address Karow, Berlin, DE the geograpical coordinate are 52.6150868, 13.4862758.\n",
      "For address Niederschönhausen, Berlin, DE the geograpical coordinate are 52.5858062, 13.401397.\n",
      "For address Pankow, Berlin, DE the geograpical coordinate are 52.597636699999995, 13.436373975411648.\n",
      "For address Prenzlauer Berg, Berlin, DE the geograpical coordinate are 52.5398466, 13.4285652.\n",
      "For address Rosenthal, Berlin, DE the geograpical coordinate are 52.5983189, 13.3755194.\n",
      "For address Stadtrandsiedlung Malchow, Berlin, DE the geograpical coordinate are 52.5710194, 13.4632849.\n",
      "For address Weißensee, Berlin, DE the geograpical coordinate are 52.5546193, 13.4630018.\n",
      "For address Wilhelmsruh, Berlin, DE the geograpical coordinate are 52.5880115, 13.3622059.\n",
      "For address Borsigwalde, Berlin, DE the geograpical coordinate are 52.5840624, 13.3022741.\n",
      "For address Frohnau, Berlin, DE the geograpical coordinate are 52.6323917, 13.2878663.\n",
      "For address Heiligensee, Berlin, DE the geograpical coordinate are 52.6122549, 13.2295789.\n",
      "For address Hermsdorf, Berlin, DE the geograpical coordinate are 52.6183341, 13.3110313.\n",
      "For address Konradshöhe, Berlin, DE the geograpical coordinate are 52.5856837, 13.2231978.\n",
      "For address Lübars, Berlin, DE the geograpical coordinate are 52.6146467, 13.3530197.\n",
      "For address Märkisches Viertel, Berlin, DE the geograpical coordinate are 52.5993123, 13.3565324.\n",
      "For address Reinickendorf, Berlin, DE the geograpical coordinate are 52.6047631, 13.2952872.\n",
      "For address Tegel, Berlin, DE the geograpical coordinate are 52.5873891, 13.2790461.\n",
      "For address Waidmannslust, Berlin, DE the geograpical coordinate are 52.60599315, 13.321046069106227.\n",
      "For address Wittenau, Berlin, DE the geograpical coordinate are 52.5912366, 13.3233195.\n",
      "For address Falkenhagener Feld, Berlin, DE the geograpical coordinate are 52.5524034, 13.1668941.\n",
      "For address Gatow, Berlin, DE the geograpical coordinate are 52.4856409, 13.1801341.\n",
      "For address Hakenfelde, Berlin, DE the geograpical coordinate are 52.5609908, 13.1967693.\n",
      "For address Haselhorst, Berlin, DE the geograpical coordinate are 52.5413233, 13.231156.\n",
      "For address Kladow, Berlin, DE the geograpical coordinate are 52.4602925, 13.1400517.\n",
      "For address Siemensstadt, Berlin, DE the geograpical coordinate are 52.5398082, 13.2568934.\n",
      "For address Spandau, Berlin, DE the geograpical coordinate are 52.535788, 13.1977924.\n",
      "For address Staaken, Berlin, DE the geograpical coordinate are 52.5322705, 13.1433666.\n",
      "For address Wilhelmstadt, Berlin, DE the geograpical coordinate are 52.5139207, 13.1914518.\n",
      "For address Dahlem, Berlin, DE the geograpical coordinate are 52.4573805, 13.2810976.\n",
      "For address Lankwitz, Berlin, DE the geograpical coordinate are 52.4336977, 13.3454858.\n",
      "For address Lichterfelde, Berlin, DE the geograpical coordinate are 52.437293, 13.3138645.\n",
      "For address Nikolassee, Berlin, DE the geograpical coordinate are 52.4262495, 13.1981446.\n",
      "For address Steglitz, Berlin, DE the geograpical coordinate are 52.4572569, 13.3222865.\n",
      "For address Wannsee, Berlin, DE the geograpical coordinate are 52.4211482, 13.1589374.\n",
      "For address Zehlendorf, Berlin, DE the geograpical coordinate are 52.4343217, 13.2589298.\n",
      "For address Friedenau, Berlin, DE the geograpical coordinate are 52.472075, 13.3296424.\n",
      "For address Lichtenrade, Berlin, DE the geograpical coordinate are 52.3934559, 13.4020397.\n",
      "For address Mariendorf, Berlin, DE the geograpical coordinate are 52.44008, 13.3900277.\n",
      "For address Marienfelde, Berlin, DE the geograpical coordinate are 52.4125766, 13.3665916.\n",
      "For address Schöneberg, Berlin, DE the geograpical coordinate are 52.482157, 13.3551901.\n",
      "For address Tempelhof, Berlin, DE the geograpical coordinate are 52.4632921, 13.3864477.\n",
      "For address Adlershof, Berlin, DE the geograpical coordinate are 52.4378932, 13.5475496.\n",
      "For address Altglienicke, Berlin, DE the geograpical coordinate are 52.4118382, 13.5426461.\n",
      "For address Alt-Treptow, Berlin, DE the geograpical coordinate are 52.4925634, 13.4598743.\n",
      "For address Baumschulenweg, Berlin, DE the geograpical coordinate are 52.4616938, 13.4815479.\n",
      "For address Bohnsdorf, Berlin, DE the geograpical coordinate are 52.4022426, 13.5706649.\n",
      "For address Friedrichshagen, Berlin, DE the geograpical coordinate are 52.4493804, 13.6262724.\n",
      "For address Grünau, Berlin, DE the geograpical coordinate are 52.4154272, 13.5805633.\n",
      "For address Johannisthal, Berlin, DE the geograpical coordinate are 52.4459114, 13.504547.\n",
      "For address Köpenick, Berlin, DE the geograpical coordinate are 52.4539099, 13.5764126.\n",
      "For address Müggelheim, Berlin, DE the geograpical coordinate are 52.4121651, 13.6619543.\n",
      "For address Niederschöneweide, Berlin, DE the geograpical coordinate are 52.4548197, 13.5178766.\n",
      "For address Oberschöneweide, Berlin, DE the geograpical coordinate are 52.4624563, 13.5234762.\n",
      "For address Plänterwald, Berlin, DE the geograpical coordinate are 52.4795439, 13.4788076.\n",
      "For address Rahnsdorf, Berlin, DE the geograpical coordinate are 52.4358729, 13.7018024.\n",
      "For address Schmöckwitz, Berlin, DE the geograpical coordinate are 52.3756651, 13.6488551.\n"
     ]
    }
   ],
   "source": [
    "for index,neighborhood in neighborhoods.iterrows(): \n",
    "    address = \"{}, Berlin, DE\".format(neighborhood.Name)\n",
    "    latitude,    longitude = get_geolocation(address)\n",
    "    neighborhood.latitude = latitude\n",
    "    neighborhood.longitute = longitude"
   ]
  },
  {
   "cell_type": "markdown",
   "metadata": {},
   "source": [
    "## Print neighborhoods dataframe with geolocations"
   ]
  },
  {
   "cell_type": "code",
   "execution_count": 28,
   "metadata": {},
   "outputs": [
    {
     "data": {
      "text/html": [
       "<div>\n",
       "<style scoped>\n",
       "    .dataframe tbody tr th:only-of-type {\n",
       "        vertical-align: middle;\n",
       "    }\n",
       "\n",
       "    .dataframe tbody tr th {\n",
       "        vertical-align: top;\n",
       "    }\n",
       "\n",
       "    .dataframe thead th {\n",
       "        text-align: right;\n",
       "    }\n",
       "</style>\n",
       "<table border=\"1\" class=\"dataframe\">\n",
       "  <thead>\n",
       "    <tr style=\"text-align: right;\">\n",
       "      <th></th>\n",
       "      <th>Name</th>\n",
       "      <th>Status</th>\n",
       "      <th>latitude</th>\n",
       "      <th>longitute</th>\n",
       "    </tr>\n",
       "  </thead>\n",
       "  <tbody>\n",
       "    <tr>\n",
       "      <th>0</th>\n",
       "      <td>Gesundbrunnen</td>\n",
       "      <td>Ortsteil</td>\n",
       "      <td>52.5509</td>\n",
       "      <td>13.3848</td>\n",
       "    </tr>\n",
       "    <tr>\n",
       "      <th>1</th>\n",
       "      <td>Hansaviertel</td>\n",
       "      <td>Ortsteil</td>\n",
       "      <td>52.5191</td>\n",
       "      <td>13.3419</td>\n",
       "    </tr>\n",
       "    <tr>\n",
       "      <th>2</th>\n",
       "      <td>Mitte</td>\n",
       "      <td>Ortsteil</td>\n",
       "      <td>52.5177</td>\n",
       "      <td>13.4024</td>\n",
       "    </tr>\n",
       "    <tr>\n",
       "      <th>3</th>\n",
       "      <td>Moabit</td>\n",
       "      <td>Ortsteil</td>\n",
       "      <td>52.5301</td>\n",
       "      <td>13.3425</td>\n",
       "    </tr>\n",
       "    <tr>\n",
       "      <th>4</th>\n",
       "      <td>Tiergarten</td>\n",
       "      <td>Ortsteil</td>\n",
       "      <td>52.5098</td>\n",
       "      <td>13.3573</td>\n",
       "    </tr>\n",
       "    <tr>\n",
       "      <th>5</th>\n",
       "      <td>Wedding</td>\n",
       "      <td>Ortsteil</td>\n",
       "      <td>52.5501</td>\n",
       "      <td>13.342</td>\n",
       "    </tr>\n",
       "    <tr>\n",
       "      <th>6</th>\n",
       "      <td>Charlottenburg</td>\n",
       "      <td>Ortsteil</td>\n",
       "      <td>52.5157</td>\n",
       "      <td>13.3097</td>\n",
       "    </tr>\n",
       "    <tr>\n",
       "      <th>7</th>\n",
       "      <td>Charlottenburg-Nord</td>\n",
       "      <td>Ortsteil</td>\n",
       "      <td>52.5405</td>\n",
       "      <td>13.2963</td>\n",
       "    </tr>\n",
       "    <tr>\n",
       "      <th>8</th>\n",
       "      <td>Grunewald</td>\n",
       "      <td>Ortsteil</td>\n",
       "      <td>52.4605</td>\n",
       "      <td>13.2387</td>\n",
       "    </tr>\n",
       "    <tr>\n",
       "      <th>9</th>\n",
       "      <td>Halensee</td>\n",
       "      <td>Ortsteil</td>\n",
       "      <td>52.4972</td>\n",
       "      <td>13.293</td>\n",
       "    </tr>\n",
       "  </tbody>\n",
       "</table>\n",
       "</div>"
      ],
      "text/plain": [
       "                  Name    Status latitude longitute\n",
       "0        Gesundbrunnen  Ortsteil  52.5509   13.3848\n",
       "1         Hansaviertel  Ortsteil  52.5191   13.3419\n",
       "2                Mitte  Ortsteil  52.5177   13.4024\n",
       "3               Moabit  Ortsteil  52.5301   13.3425\n",
       "4           Tiergarten  Ortsteil  52.5098   13.3573\n",
       "5              Wedding  Ortsteil  52.5501    13.342\n",
       "6       Charlottenburg  Ortsteil  52.5157   13.3097\n",
       "7  Charlottenburg-Nord  Ortsteil  52.5405   13.2963\n",
       "8            Grunewald  Ortsteil  52.4605   13.2387\n",
       "9             Halensee  Ortsteil  52.4972    13.293"
      ]
     },
     "execution_count": 28,
     "metadata": {},
     "output_type": "execute_result"
    }
   ],
   "source": [
    "neighborhoods[:10]"
   ]
  },
  {
   "cell_type": "markdown",
   "metadata": {},
   "source": [
    "# Fetch venues for home neighborhood"
   ]
  },
  {
   "cell_type": "code",
   "execution_count": null,
   "metadata": {},
   "outputs": [],
   "source": [
    "##For the home location the home neighborhood is explored by means of the Foursquare service venues/explore."
   ]
  },
  {
   "cell_type": "markdown",
   "metadata": {},
   "source": [
    "## For this home neighborhood all the venues the categories are counted and hot encoded."
   ]
  },
  {
   "cell_type": "raw",
   "metadata": {},
   "source": [
    "neighborhoods = neighborhoods[neighborhoods[\"Borough\"] != \"Not assigned\"]\n",
    "neighborhoods[0:10]"
   ]
  },
  {
   "cell_type": "markdown",
   "metadata": {},
   "source": [
    "More than one neighborhood can exist in one postal code area. For example, in the table on the Wikipedia page, you will notice that M5A is listed twice and has two neighborhoods: Harbourfront and Regent Park. "
   ]
  },
  {
   "cell_type": "raw",
   "metadata": {},
   "source": [
    "neighborhoods.groupby([\"Postal Code\",\"Borough\"])['Neighborhood'].transform(lambda x: ','.join(x))\n",
    "#neighborhoods=neighborhoods.reset_index()\n",
    "#neighborhoods.drop([\"level_0\",\"index\"],axis=\"columns\")\n",
    "neighborhoods[:10]"
   ]
  },
  {
   "cell_type": "markdown",
   "metadata": {},
   "source": [
    "If a cell has a borough but a Not assigned neighborhood, then the neighborhood will be the same as the borough."
   ]
  },
  {
   "cell_type": "code",
   "execution_count": 8,
   "metadata": {},
   "outputs": [
    {
     "ename": "AttributeError",
     "evalue": "'DataFrame' object has no attribute 'Neighborhood'",
     "output_type": "error",
     "traceback": [
      "\u001b[0;31m---------------------------------------------------------------------------\u001b[0m",
      "\u001b[0;31mAttributeError\u001b[0m                            Traceback (most recent call last)",
      "\u001b[0;32m<ipython-input-8-8bb50326665c>\u001b[0m in \u001b[0;36m<module>\u001b[0;34m\u001b[0m\n\u001b[0;32m----> 1\u001b[0;31m \u001b[0mneighborhoods\u001b[0m\u001b[0;34m.\u001b[0m\u001b[0mloc\u001b[0m\u001b[0;34m[\u001b[0m\u001b[0;34m(\u001b[0m\u001b[0mneighborhoods\u001b[0m\u001b[0;34m.\u001b[0m\u001b[0mNeighborhood\u001b[0m \u001b[0;34m==\u001b[0m \u001b[0;34m\"Not assigned\"\u001b[0m\u001b[0;34m)\u001b[0m\u001b[0;34m,\u001b[0m\u001b[0;34m\"Neighborhood\"\u001b[0m\u001b[0;34m]\u001b[0m \u001b[0;34m=\u001b[0m \u001b[0mneighborhoods\u001b[0m\u001b[0;34m.\u001b[0m\u001b[0mloc\u001b[0m\u001b[0;34m[\u001b[0m\u001b[0;34m(\u001b[0m\u001b[0mneighborhoods\u001b[0m\u001b[0;34m.\u001b[0m\u001b[0mNeighborhood\u001b[0m\u001b[0;34m==\u001b[0m\u001b[0;34m\"Not assigned\"\u001b[0m\u001b[0;34m)\u001b[0m\u001b[0;34m,\u001b[0m\u001b[0;34m\"Borough\"\u001b[0m\u001b[0;34m]\u001b[0m\u001b[0;34m\u001b[0m\u001b[0;34m\u001b[0m\u001b[0m\n\u001b[0m",
      "\u001b[0;32m~/miniconda3/envs/test/lib/python3.7/site-packages/pandas/core/generic.py\u001b[0m in \u001b[0;36m__getattr__\u001b[0;34m(self, name)\u001b[0m\n\u001b[1;32m   5272\u001b[0m             \u001b[0;32mif\u001b[0m \u001b[0mself\u001b[0m\u001b[0;34m.\u001b[0m\u001b[0m_info_axis\u001b[0m\u001b[0;34m.\u001b[0m\u001b[0m_can_hold_identifiers_and_holds_name\u001b[0m\u001b[0;34m(\u001b[0m\u001b[0mname\u001b[0m\u001b[0;34m)\u001b[0m\u001b[0;34m:\u001b[0m\u001b[0;34m\u001b[0m\u001b[0;34m\u001b[0m\u001b[0m\n\u001b[1;32m   5273\u001b[0m                 \u001b[0;32mreturn\u001b[0m \u001b[0mself\u001b[0m\u001b[0;34m[\u001b[0m\u001b[0mname\u001b[0m\u001b[0;34m]\u001b[0m\u001b[0;34m\u001b[0m\u001b[0;34m\u001b[0m\u001b[0m\n\u001b[0;32m-> 5274\u001b[0;31m             \u001b[0;32mreturn\u001b[0m \u001b[0mobject\u001b[0m\u001b[0;34m.\u001b[0m\u001b[0m__getattribute__\u001b[0m\u001b[0;34m(\u001b[0m\u001b[0mself\u001b[0m\u001b[0;34m,\u001b[0m \u001b[0mname\u001b[0m\u001b[0;34m)\u001b[0m\u001b[0;34m\u001b[0m\u001b[0;34m\u001b[0m\u001b[0m\n\u001b[0m\u001b[1;32m   5275\u001b[0m \u001b[0;34m\u001b[0m\u001b[0m\n\u001b[1;32m   5276\u001b[0m     \u001b[0;32mdef\u001b[0m \u001b[0m__setattr__\u001b[0m\u001b[0;34m(\u001b[0m\u001b[0mself\u001b[0m\u001b[0;34m,\u001b[0m \u001b[0mname\u001b[0m\u001b[0;34m:\u001b[0m \u001b[0mstr\u001b[0m\u001b[0;34m,\u001b[0m \u001b[0mvalue\u001b[0m\u001b[0;34m)\u001b[0m \u001b[0;34m->\u001b[0m \u001b[0;32mNone\u001b[0m\u001b[0;34m:\u001b[0m\u001b[0;34m\u001b[0m\u001b[0;34m\u001b[0m\u001b[0m\n",
      "\u001b[0;31mAttributeError\u001b[0m: 'DataFrame' object has no attribute 'Neighborhood'"
     ]
    }
   ],
   "source": [
    "neighborhoods.loc[(neighborhoods.Neighborhood == \"Not assigned\"),\"Neighborhood\"] = neighborhoods.loc[(neighborhoods.Neighborhood==\"Not assigned\"),\"Borough\"] \n"
   ]
  },
  {
   "cell_type": "markdown",
   "metadata": {},
   "source": [
    "# Question 1\n",
    "In the last cell of your notebook, use the .shape method to print the number of rows of your dataframe."
   ]
  },
  {
   "cell_type": "raw",
   "metadata": {},
   "source": [
    "neighborhoods.head(10)"
   ]
  },
  {
   "cell_type": "code",
   "execution_count": null,
   "metadata": {},
   "outputs": [],
   "source": [
    "# length of final Data Frame\n",
    "print ('The data set contains of: '+ str(neighborhoods.shape[0]) + ' rows')"
   ]
  },
  {
   "cell_type": "code",
   "execution_count": null,
   "metadata": {},
   "outputs": [],
   "source": [
    "geo_spatial_data = pd.read_csv(\"https://cocl.us/Geospatial_data\")\n",
    "geo_spatial_data.head()"
   ]
  },
  {
   "cell_type": "code",
   "execution_count": null,
   "metadata": {},
   "outputs": [],
   "source": [
    "neighborhoods=neighborhoods.join(geo_spatial_data,rsuffix=\"_right\").drop(\"Postal Code_right\",axis=\"columns\")\n",
    "neighborhoods.to_csv(\"neighborhoods.csv\")"
   ]
  },
  {
   "cell_type": "markdown",
   "metadata": {},
   "source": [
    "Remove rows without geo spatial data"
   ]
  },
  {
   "cell_type": "code",
   "execution_count": null,
   "metadata": {},
   "outputs": [],
   "source": [
    "neighborhoods=neighborhoods[~neighborhoods.Latitude.isnull()]"
   ]
  },
  {
   "cell_type": "markdown",
   "metadata": {},
   "source": [
    "# Question 2\n",
    "geographical coordinates of each neighborhood"
   ]
  },
  {
   "cell_type": "code",
   "execution_count": null,
   "metadata": {},
   "outputs": [],
   "source": [
    "neighborhoods"
   ]
  },
  {
   "cell_type": "markdown",
   "metadata": {},
   "source": [
    "generate maps to visualize your neighborhoods and how they cluster together."
   ]
  },
  {
   "cell_type": "code",
   "execution_count": null,
   "metadata": {},
   "outputs": [],
   "source": [
    "address = 'Toronto, CA'\n",
    "\n",
    "geolocator = Nominatim(user_agent=\"ny_explorer\")\n",
    "location = geolocator.geocode(address)\n",
    "latitude = location.latitude\n",
    "longitude = location.longitude\n",
    "print('The geograpical coordinate of Toronto are {}, {}.'.format(latitude, longitude))"
   ]
  },
  {
   "cell_type": "markdown",
   "metadata": {},
   "source": [
    "Create a map of Toronto with neighborhoods superimposed on top."
   ]
  },
  {
   "cell_type": "code",
   "execution_count": null,
   "metadata": {},
   "outputs": [],
   "source": [
    "# create map of New York using latitude and longitude values\n",
    "map_toronto = folium.Map(location=[latitude, longitude], zoom_start=10)\n",
    "\n",
    "# add markers to map\n",
    "for lat, lng, borough, neighborhood in zip(neighborhoods['Latitude'], neighborhoods['Longitude'], neighborhoods['Borough'], neighborhoods['Neighborhood']):\n",
    "    label = '{}, {}'.format(neighborhood, borough)\n",
    "    label = folium.Popup(label, parse_html=True)\n",
    "    folium.CircleMarker(\n",
    "        [lat, lng],\n",
    "        radius=5,\n",
    "        popup=label,\n",
    "        color='blue',\n",
    "        fill=True,\n",
    "        fill_color='#3186cc',\n",
    "        fill_opacity=0.7,\n",
    "        parse_html=False).add_to(map_toronto)  \n",
    "    \n",
    "map_toronto"
   ]
  },
  {
   "cell_type": "markdown",
   "metadata": {},
   "source": [
    "Define Foursquare Credentials and Version"
   ]
  },
  {
   "cell_type": "code",
   "execution_count": null,
   "metadata": {},
   "outputs": [],
   "source": [
    "CLIENT_ID = 'VKSIQER351GE0IFJAR4KV4YOF5QFBDNYSLANPKBNHDLBVRAN' # your Foursquare ID\n",
    "CLIENT_SECRET = 'GXWOAWMYIT4XIAMH3DAYR2IWVXGGQFK2KLIMMKEVFEKKRUI3' # your Foursquare Secret\n",
    "VERSION = '20180605' # Foursquare API version\n",
    "\n",
    "print('Your credentails:')\n",
    "print('CLIENT_ID: ' + CLIENT_ID)\n",
    "print('CLIENT_SECRET:' + CLIENT_SECRET)"
   ]
  },
  {
   "cell_type": "markdown",
   "metadata": {},
   "source": [
    "Now, let's get the top 100 venues that are in Marble Hill within a radius of 500 meters.\n",
    "First, let's create the GET request URL. Name your URL url."
   ]
  },
  {
   "cell_type": "code",
   "execution_count": null,
   "metadata": {},
   "outputs": [],
   "source": [
    "# type your answer here\n",
    "\n",
    "LIMIT = 100 # limit of number of venues returned by Foursquare API\n",
    "radius = 500 # define radius\n",
    "url = 'https://api.foursquare.com/v2/venues/explore?&client_id={}&client_secret={}&v={}&ll={},{}&radius={}&limit={}'.format(\n",
    "    CLIENT_ID, \n",
    "    CLIENT_SECRET, \n",
    "    VERSION, \n",
    "    latitude, \n",
    "    longitude, \n",
    "    radius, \n",
    "    LIMIT)\n",
    "url # display URL\n",
    "\n"
   ]
  },
  {
   "cell_type": "markdown",
   "metadata": {},
   "source": [
    "Send the GET request and examine the results"
   ]
  },
  {
   "cell_type": "code",
   "execution_count": null,
   "metadata": {},
   "outputs": [],
   "source": [
    "results = requests.get(url).json()\n",
    "#results"
   ]
  },
  {
   "cell_type": "markdown",
   "metadata": {},
   "source": [
    "From the Foursquare lab in the previous module, we know that all the information is in the items key. Before we proceed, let's borrow the get_category_type function from the Foursquare lab."
   ]
  },
  {
   "cell_type": "code",
   "execution_count": null,
   "metadata": {},
   "outputs": [],
   "source": [
    "# function that extracts the category of the venue\n",
    "def get_category_type(row):\n",
    "    try:\n",
    "        categories_list = row['categories']\n",
    "    except:\n",
    "        categories_list = row['venue.categories']\n",
    "        \n",
    "    if len(categories_list) == 0:\n",
    "        return None\n",
    "    else:\n",
    "        return categories_list[0]['name']"
   ]
  },
  {
   "cell_type": "markdown",
   "metadata": {},
   "source": [
    "Now we are ready to clean the json and structure it into a pandas dataframe."
   ]
  },
  {
   "cell_type": "markdown",
   "metadata": {},
   "source": [
    "Let's create a function to repeat the same process to all the neighborhoods in Manhattan"
   ]
  },
  {
   "cell_type": "code",
   "execution_count": null,
   "metadata": {},
   "outputs": [],
   "source": [
    "def getNearbyVenues(names, latitudes, longitudes, radius=500):\n",
    "    \n",
    "    venues_list=[]\n",
    "    for name, lat, lng in zip(names, latitudes, longitudes):\n",
    "        print(name)\n",
    "            \n",
    "        # create the API request URL\n",
    "        url = 'https://api.foursquare.com/v2/venues/explore?&client_id={}&client_secret={}&v={}&ll={},{}&radius={}&limit={}'.format(\n",
    "            CLIENT_ID, \n",
    "            CLIENT_SECRET, \n",
    "            VERSION, \n",
    "            lat, \n",
    "            lng, \n",
    "            radius, \n",
    "            LIMIT)\n",
    "            \n",
    "        # make the GET request\n",
    "        results = requests.get(url).json()[\"response\"]['groups'][0]['items']\n",
    "        \n",
    "        # return only relevant information for each nearby venue\n",
    "        venues_list.append([(\n",
    "            name, \n",
    "            lat, \n",
    "            lng, \n",
    "            v['venue']['name'], \n",
    "            v['venue']['location']['lat'], \n",
    "            v['venue']['location']['lng'],  \n",
    "            v['venue']['categories'][0]['name']) for v in results])\n",
    "\n",
    "    nearby_venues = pd.DataFrame([item for venue_list in venues_list for item in venue_list])\n",
    "    nearby_venues.columns = ['Neighborhood', \n",
    "                  'Neighborhood Latitude', \n",
    "                  'Neighborhood Longitude', \n",
    "                  'Venue', \n",
    "                  'Venue Latitude', \n",
    "                  'Venue Longitude', \n",
    "                  'Venue Category']\n",
    "    \n",
    "    return(nearby_venues)"
   ]
  },
  {
   "cell_type": "markdown",
   "metadata": {},
   "source": [
    "Now write the code to run the above function on each neighborhood and create a new dataframe called torronto_venues."
   ]
  },
  {
   "cell_type": "code",
   "execution_count": null,
   "metadata": {},
   "outputs": [],
   "source": [
    "# type your answer here\n",
    "\n",
    "toronto_venues = getNearbyVenues(names=neighborhoods['Neighborhood'],\n",
    "                                   latitudes=neighborhoods['Latitude'],\n",
    "                                   longitudes=neighborhoods['Longitude']\n",
    "                                  )\n",
    "\n"
   ]
  },
  {
   "cell_type": "code",
   "execution_count": null,
   "metadata": {},
   "outputs": [],
   "source": [
    "#### Let's check the size of the resulting dataframe"
   ]
  },
  {
   "cell_type": "code",
   "execution_count": null,
   "metadata": {},
   "outputs": [],
   "source": [
    "print(toronto_venues.shape)\n",
    "toronto_venues.head()"
   ]
  },
  {
   "cell_type": "markdown",
   "metadata": {},
   "source": [
    "Let's check how many venues were returned for each neighborhood"
   ]
  },
  {
   "cell_type": "code",
   "execution_count": null,
   "metadata": {},
   "outputs": [],
   "source": [
    "toronto_venues.groupby('Neighborhood').count().head()"
   ]
  },
  {
   "cell_type": "markdown",
   "metadata": {},
   "source": [
    "Let's find out how many unique categories can be curated from all the returned venues"
   ]
  },
  {
   "cell_type": "code",
   "execution_count": null,
   "metadata": {},
   "outputs": [],
   "source": [
    "print('There are {} uniques categories.'.format(toronto_venues['Venue Category'].unique()))"
   ]
  },
  {
   "cell_type": "markdown",
   "metadata": {},
   "source": [
    "Analyze Each Neighborhood"
   ]
  },
  {
   "cell_type": "code",
   "execution_count": null,
   "metadata": {},
   "outputs": [],
   "source": [
    "# one hot encoding\n",
    "toronto_onehot = pd.get_dummies(toronto_venues[['Venue Category']], prefix=\"\", prefix_sep=\"\")\n",
    "\n",
    "# add neighborhood column back to dataframe\n",
    "toronto_onehot['Neighborhood'] = toronto_venues['Neighborhood'] \n",
    "\n",
    "# move neighborhood column to the first column\n",
    "fixed_columns = [toronto_onehot.columns[-1]] + list(toronto_onehot.columns[:-1])\n",
    "toronto_onehot = toronto_onehot[fixed_columns]\n",
    "\n",
    "toronto_onehot.head()"
   ]
  },
  {
   "cell_type": "markdown",
   "metadata": {},
   "source": [
    "And let's examine the new dataframe size."
   ]
  },
  {
   "cell_type": "code",
   "execution_count": null,
   "metadata": {},
   "outputs": [],
   "source": [
    "toronto_onehot.shape"
   ]
  },
  {
   "cell_type": "markdown",
   "metadata": {},
   "source": [
    "Next, let's group rows by neighborhood and by taking the mean of the frequency of occurrence of each category"
   ]
  },
  {
   "cell_type": "code",
   "execution_count": null,
   "metadata": {},
   "outputs": [],
   "source": [
    "toronto_grouped = toronto_onehot.groupby('Neighborhood').mean().reset_index()\n",
    "toronto_grouped.head()"
   ]
  },
  {
   "cell_type": "markdown",
   "metadata": {},
   "source": [
    "Let's confirm the new size"
   ]
  },
  {
   "cell_type": "code",
   "execution_count": null,
   "metadata": {},
   "outputs": [],
   "source": [
    "toronto_grouped.shape"
   ]
  },
  {
   "cell_type": "markdown",
   "metadata": {},
   "source": [
    "First, let's write a function to sort the venues in descending order."
   ]
  },
  {
   "cell_type": "code",
   "execution_count": null,
   "metadata": {},
   "outputs": [],
   "source": [
    "def return_most_common_venues(row, num_top_venues):\n",
    "    row_categories = row.iloc[1:]\n",
    "    row_categories_sorted = row_categories.sort_values(ascending=False)\n",
    "    \n",
    "    return row_categories_sorted.index.values[0:num_top_venues]"
   ]
  },
  {
   "cell_type": "markdown",
   "metadata": {},
   "source": [
    "Now let's create the new dataframe and display the top 10 venues for each neighborhood."
   ]
  },
  {
   "cell_type": "code",
   "execution_count": null,
   "metadata": {},
   "outputs": [],
   "source": [
    "num_top_venues = 10\n",
    "\n",
    "indicators = ['st', 'nd', 'rd']\n",
    "\n",
    "# create columns according to number of top venues\n",
    "columns = ['Neighborhood']\n",
    "for ind in np.arange(num_top_venues):\n",
    "    try:\n",
    "        columns.append('{}{} Most Common Venue'.format(ind+1, indicators[ind]))\n",
    "    except:\n",
    "        columns.append('{}th Most Common Venue'.format(ind+1))\n",
    "\n",
    "# create a new dataframe\n",
    "neighborhoods_venues_sorted = pd.DataFrame(columns=columns)\n",
    "neighborhoods_venues_sorted['Neighborhood'] = toronto_grouped['Neighborhood']\n",
    "\n",
    "for ind in np.arange(toronto_grouped.shape[0]):\n",
    "    neighborhoods_venues_sorted.iloc[ind, 1:] = return_most_common_venues(toronto_grouped.iloc[ind, :], num_top_venues)\n",
    "\n",
    "neighborhoods_venues_sorted.head()"
   ]
  },
  {
   "cell_type": "markdown",
   "metadata": {},
   "source": [
    "Cluster Neighborhoods"
   ]
  },
  {
   "cell_type": "markdown",
   "metadata": {},
   "source": [
    "Run *k*-means to cluster the neighborhood into 5 clusters."
   ]
  },
  {
   "cell_type": "code",
   "execution_count": null,
   "metadata": {},
   "outputs": [],
   "source": [
    "# set number of clusters\n",
    "kclusters = 5\n",
    "\n",
    "toronto_grouped_clustering = toronto_grouped.drop('Neighborhood', 1)\n",
    "\n",
    "# run k-means clustering\n",
    "kmeans = KMeans(n_clusters=kclusters, random_state=0).fit(toronto_grouped_clustering)\n",
    "\n",
    "# check cluster labels generated for each row in the dataframe\n",
    "kmeans.labels_[0:10] "
   ]
  },
  {
   "cell_type": "markdown",
   "metadata": {},
   "source": [
    "Let's create a new dataframe that includes the cluster as well as the top 10 venues for each neighborhood."
   ]
  },
  {
   "cell_type": "code",
   "execution_count": null,
   "metadata": {},
   "outputs": [],
   "source": [
    "# add clustering labels\n",
    "neighborhoods_venues_sorted.insert(0, 'Cluster Labels', kmeans.labels_)"
   ]
  },
  {
   "cell_type": "markdown",
   "metadata": {},
   "source": [
    "Finally, let's visualize the resulting clusters"
   ]
  },
  {
   "cell_type": "markdown",
   "metadata": {},
   "source": [
    "# Question 3\n",
    "Map to visualize Toronto's neighborhoods and how they cluster together"
   ]
  },
  {
   "cell_type": "code",
   "execution_count": null,
   "metadata": {},
   "outputs": [],
   "source": [
    "\n",
    "toronto_merged = neighborhoods\n",
    "\n",
    "# merge toronto_grouped with toronto_data to add latitude/longitude for each neighborhood\n",
    "toronto_merged = toronto_merged.join(neighborhoods_venues_sorted.set_index('Neighborhood'), on='Neighborhood')\n",
    "#toronto_merged['Cluster Labels'] = pd.to_numeric(toronto_merged['Cluster Labels'], downcast='integer')\n",
    "# drop rows without cluster that is without venues\n",
    "toronto_merged.dropna(subset=['Cluster Labels'],inplace=True)\n",
    "# convert cluster labels to real\n",
    "toronto_merged=toronto_merged.astype({'Cluster Labels': int})\n",
    "\n",
    "toronto_merged.head() # check the last columns!"
   ]
  },
  {
   "cell_type": "code",
   "execution_count": null,
   "metadata": {},
   "outputs": [],
   "source": [
    "# create map\n",
    "map_clusters = folium.Map(location=[latitude, longitude], zoom_start=11)\n",
    "\n",
    "# set color scheme for the clusters\n",
    "x = np.arange(kclusters)\n",
    "ys = [i + x + (i*x)**2 for i in range(kclusters)]\n",
    "colors_array = cm.rainbow(np.linspace(0, 1, len(ys)))\n",
    "rainbow = [colors.rgb2hex(i) for i in colors_array]\n",
    "\n",
    "# add markers to the map\n",
    "markers_colors = []\n",
    "for lat, lon, poi, cluster in zip(toronto_merged['Latitude'], toronto_merged['Longitude'], toronto_merged['Neighborhood'], toronto_merged['Cluster Labels']):\n",
    "    label = folium.Popup(str(poi) + ' Cluster ' + str(cluster), parse_html=True)\n",
    "    folium.CircleMarker(\n",
    "        [lat, lon],\n",
    "        radius=5,\n",
    "        popup=label,\n",
    "        color=rainbow[cluster-1],\n",
    "        fill=True,\n",
    "        fill_color=rainbow[cluster-1],\n",
    "        fill_opacity=0.7).add_to(map_clusters)\n",
    "       \n",
    "map_clusters"
   ]
  }
 ],
 "metadata": {
  "kernelspec": {
   "display_name": "Python [conda env:test]",
   "language": "python",
   "name": "conda-env-test-py"
  },
  "language_info": {
   "codemirror_mode": {
    "name": "ipython",
    "version": 3
   },
   "file_extension": ".py",
   "mimetype": "text/x-python",
   "name": "python",
   "nbconvert_exporter": "python",
   "pygments_lexer": "ipython3",
   "version": "3.7.6"
  }
 },
 "nbformat": 4,
 "nbformat_minor": 4
}
